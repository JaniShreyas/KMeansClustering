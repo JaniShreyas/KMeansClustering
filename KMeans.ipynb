{
 "cells": [
  {
   "cell_type": "code",
   "execution_count": 263,
   "metadata": {},
   "outputs": [],
   "source": [
    "#Creating KMeans Clustering Algorithm from Scratch\n",
    "#First get a dataset\n",
    "from sklearn.datasets import load_iris\n",
    "from sklearn.cluster import KMeans\n",
    "from sklearn.model_selection import train_test_split\n",
    "import numpy as np\n",
    "import random as rd"
   ]
  },
  {
   "cell_type": "code",
   "execution_count": 264,
   "metadata": {},
   "outputs": [],
   "source": [
    "iris = load_iris()\n",
    "data = iris.data\n",
    "target = iris.target"
   ]
  },
  {
   "cell_type": "code",
   "execution_count": 265,
   "metadata": {},
   "outputs": [],
   "source": [
    "XFull = data[:, 1:3]\n",
    "XTrain, XTest, yTrain, yTest = train_test_split(XFull, target)"
   ]
  },
  {
   "cell_type": "code",
   "execution_count": 266,
   "metadata": {},
   "outputs": [
    {
     "data": {
      "text/plain": [
       "((112, 2), (112, 1))"
      ]
     },
     "execution_count": 266,
     "metadata": {},
     "output_type": "execute_result"
    }
   ],
   "source": [
    "yTrain = yTrain.reshape(-1,1)\n",
    "yTest = yTest.reshape(-1,1)\n",
    "XTrain.shape, yTrain.shape"
   ]
  },
  {
   "cell_type": "markdown",
   "metadata": {},
   "source": [
    "My Implementation"
   ]
  },
  {
   "cell_type": "code",
   "execution_count": 289,
   "metadata": {},
   "outputs": [],
   "source": [
    "#We need to define k Cluster centroids at the positions of k random data points\n",
    "#Then we calculate each data point's distance from all k centroids and decide its label from the least distance\n",
    "\n",
    "class KMeansClustering:\n",
    "    n_clusters = 7\n",
    "    threshold = 0.5\n",
    "    data = []\n",
    "    distances = []\n",
    "    labels = []\n",
    "    uniqueLabels = []\n",
    "    centroidPos = []\n",
    "    def __init__(self, n_clusters = 7, threshold = 1):\n",
    "        self.n_clusters = n_clusters\n",
    "        self.threshold = threshold\n",
    "    \n",
    "    def fit(self, data): \n",
    "        #Resetting any existing values\n",
    "        self.data = np.array(data)\n",
    "        self.distances = np.zeros(shape=self.data.shape)\n",
    "        self.labels = np.zeros(shape=self.data.shape)\n",
    "        self.uniqueLabels = []\n",
    "        self.centroidPos = []\n",
    "        self._cluster()\n",
    "\n",
    "    def _cluster(self):\n",
    "        self.uniqueLabels = [i for i in range(self.n_clusters)]\n",
    "        centroidPos = []\n",
    "\n",
    "        #Initializing centroids\n",
    "        for i in range(self.n_clusters):\n",
    "            options = np.array(self.data)\n",
    "            pos = rd.choice(self.data)\n",
    "            \n",
    "            mask = options != pos\n",
    "            options = options[mask]\n",
    "            \n",
    "            self.centroidPos.append(pos)\n",
    "        self.centroidPos = np.array(self.centroidPos)\n",
    "\n",
    "        converged = False\n",
    "        centroidDist = 10000\n",
    "        \n",
    "        while(not converged):\n",
    "\n",
    "            for i in range(len(self.data)):\n",
    "                dist = []\n",
    "                for cent in self.centroidPos:\n",
    "                    dist.append(np.linalg.norm(self.data[i] - cent))\n",
    "                min = np.min(dist)\n",
    "                label = np.argmin(np.array(dist))\n",
    "                self.distances[i] = min\n",
    "                self.labels[i] = label\n",
    "            \n",
    "            #Now we need to change the postions of the centroids based on the mean of the labeled values\n",
    "            #So loop over all the centroids, nested loop over all the data points and then find the mean where i == labels[j]\n",
    "            \n",
    "            newCentroidPos = []\n",
    "            for i in range(len(self.centroidPos)):\n",
    "                sum = 0\n",
    "                count = 0\n",
    "                for j in range(len(self.data)):\n",
    "                    b = (self.labels[j] == i).astype(int)\n",
    "                    sum += b * self.data[j]\n",
    "                    count += 1\n",
    "                newCentroidPos.append(sum/count)\n",
    "                \n",
    "            newCentroidPos = np.array(newCentroidPos)\n",
    "            \n",
    "            newCentroidDist = np.linalg.norm(newCentroidPos - self.centroidPos)\n",
    "            converged = abs(newCentroidDist - centroidDist) < self.threshold\n",
    "            centroidDist = newCentroidDist"
   ]
  },
  {
   "cell_type": "code",
   "execution_count": 268,
   "metadata": {},
   "outputs": [],
   "source": [
    "def test(outputs):\n",
    "    res = {\"T\": 0, \"F\": 0}\n",
    "    for output in outputs:\n",
    "        if(output):\n",
    "            res[\"T\"] += 1\n",
    "        else: \n",
    "            res[\"F\"] += 1\n",
    "    print(res)"
   ]
  },
  {
   "cell_type": "code",
   "execution_count": 299,
   "metadata": {},
   "outputs": [
    {
     "name": "stdout",
     "output_type": "stream",
     "text": [
      "5.34574889515024\n",
      "5.34574889515024\n",
      "{'T': 72, 'F': 40}\n"
     ]
    }
   ],
   "source": [
    "kmeans = KMeansClustering(n_clusters=3, threshold=0.0001)\n",
    "kmeans.fit(XTrain)\n",
    "yPred = kmeans.labels[:, 0].astype(int)\n",
    "\n",
    "#Comparing to actual values\n",
    "test(yPred)"
   ]
  },
  {
   "cell_type": "markdown",
   "metadata": {},
   "source": [
    "Testing Sklearn's implementation"
   ]
  },
  {
   "cell_type": "code",
   "execution_count": 270,
   "metadata": {},
   "outputs": [
    {
     "name": "stderr",
     "output_type": "stream",
     "text": [
      "c:\\Users\\unova\\anaconda3\\envs\\nb\\Lib\\site-packages\\sklearn\\cluster\\_kmeans.py:1416: FutureWarning: The default value of `n_init` will change from 10 to 'auto' in 1.4. Set the value of `n_init` explicitly to suppress the warning\n",
      "  super()._check_params_vs_input(X, default_n_init=10)\n"
     ]
    },
    {
     "data": {
      "text/html": [
       "<style>#sk-container-id-12 {color: black;}#sk-container-id-12 pre{padding: 0;}#sk-container-id-12 div.sk-toggleable {background-color: white;}#sk-container-id-12 label.sk-toggleable__label {cursor: pointer;display: block;width: 100%;margin-bottom: 0;padding: 0.3em;box-sizing: border-box;text-align: center;}#sk-container-id-12 label.sk-toggleable__label-arrow:before {content: \"▸\";float: left;margin-right: 0.25em;color: #696969;}#sk-container-id-12 label.sk-toggleable__label-arrow:hover:before {color: black;}#sk-container-id-12 div.sk-estimator:hover label.sk-toggleable__label-arrow:before {color: black;}#sk-container-id-12 div.sk-toggleable__content {max-height: 0;max-width: 0;overflow: hidden;text-align: left;background-color: #f0f8ff;}#sk-container-id-12 div.sk-toggleable__content pre {margin: 0.2em;color: black;border-radius: 0.25em;background-color: #f0f8ff;}#sk-container-id-12 input.sk-toggleable__control:checked~div.sk-toggleable__content {max-height: 200px;max-width: 100%;overflow: auto;}#sk-container-id-12 input.sk-toggleable__control:checked~label.sk-toggleable__label-arrow:before {content: \"▾\";}#sk-container-id-12 div.sk-estimator input.sk-toggleable__control:checked~label.sk-toggleable__label {background-color: #d4ebff;}#sk-container-id-12 div.sk-label input.sk-toggleable__control:checked~label.sk-toggleable__label {background-color: #d4ebff;}#sk-container-id-12 input.sk-hidden--visually {border: 0;clip: rect(1px 1px 1px 1px);clip: rect(1px, 1px, 1px, 1px);height: 1px;margin: -1px;overflow: hidden;padding: 0;position: absolute;width: 1px;}#sk-container-id-12 div.sk-estimator {font-family: monospace;background-color: #f0f8ff;border: 1px dotted black;border-radius: 0.25em;box-sizing: border-box;margin-bottom: 0.5em;}#sk-container-id-12 div.sk-estimator:hover {background-color: #d4ebff;}#sk-container-id-12 div.sk-parallel-item::after {content: \"\";width: 100%;border-bottom: 1px solid gray;flex-grow: 1;}#sk-container-id-12 div.sk-label:hover label.sk-toggleable__label {background-color: #d4ebff;}#sk-container-id-12 div.sk-serial::before {content: \"\";position: absolute;border-left: 1px solid gray;box-sizing: border-box;top: 0;bottom: 0;left: 50%;z-index: 0;}#sk-container-id-12 div.sk-serial {display: flex;flex-direction: column;align-items: center;background-color: white;padding-right: 0.2em;padding-left: 0.2em;position: relative;}#sk-container-id-12 div.sk-item {position: relative;z-index: 1;}#sk-container-id-12 div.sk-parallel {display: flex;align-items: stretch;justify-content: center;background-color: white;position: relative;}#sk-container-id-12 div.sk-item::before, #sk-container-id-12 div.sk-parallel-item::before {content: \"\";position: absolute;border-left: 1px solid gray;box-sizing: border-box;top: 0;bottom: 0;left: 50%;z-index: -1;}#sk-container-id-12 div.sk-parallel-item {display: flex;flex-direction: column;z-index: 1;position: relative;background-color: white;}#sk-container-id-12 div.sk-parallel-item:first-child::after {align-self: flex-end;width: 50%;}#sk-container-id-12 div.sk-parallel-item:last-child::after {align-self: flex-start;width: 50%;}#sk-container-id-12 div.sk-parallel-item:only-child::after {width: 0;}#sk-container-id-12 div.sk-dashed-wrapped {border: 1px dashed gray;margin: 0 0.4em 0.5em 0.4em;box-sizing: border-box;padding-bottom: 0.4em;background-color: white;}#sk-container-id-12 div.sk-label label {font-family: monospace;font-weight: bold;display: inline-block;line-height: 1.2em;}#sk-container-id-12 div.sk-label-container {text-align: center;}#sk-container-id-12 div.sk-container {/* jupyter's `normalize.less` sets `[hidden] { display: none; }` but bootstrap.min.css set `[hidden] { display: none !important; }` so we also need the `!important` here to be able to override the default hidden behavior on the sphinx rendered scikit-learn.org. See: https://github.com/scikit-learn/scikit-learn/issues/21755 */display: inline-block !important;position: relative;}#sk-container-id-12 div.sk-text-repr-fallback {display: none;}</style><div id=\"sk-container-id-12\" class=\"sk-top-container\"><div class=\"sk-text-repr-fallback\"><pre>KMeans(n_clusters=3)</pre><b>In a Jupyter environment, please rerun this cell to show the HTML representation or trust the notebook. <br />On GitHub, the HTML representation is unable to render, please try loading this page with nbviewer.org.</b></div><div class=\"sk-container\" hidden><div class=\"sk-item\"><div class=\"sk-estimator sk-toggleable\"><input class=\"sk-toggleable__control sk-hidden--visually\" id=\"sk-estimator-id-12\" type=\"checkbox\" checked><label for=\"sk-estimator-id-12\" class=\"sk-toggleable__label sk-toggleable__label-arrow\">KMeans</label><div class=\"sk-toggleable__content\"><pre>KMeans(n_clusters=3)</pre></div></div></div></div></div>"
      ],
      "text/plain": [
       "KMeans(n_clusters=3)"
      ]
     },
     "execution_count": 270,
     "metadata": {},
     "output_type": "execute_result"
    }
   ],
   "source": [
    "kmeans = KMeans(n_clusters=3)\n",
    "kmeans.fit(XTrain)          "
   ]
  },
  {
   "cell_type": "code",
   "execution_count": 271,
   "metadata": {},
   "outputs": [
    {
     "name": "stdout",
     "output_type": "stream",
     "text": [
      "{'T': 106, 'F': 6}\n"
     ]
    }
   ],
   "source": [
    "yPred = kmeans.labels_.reshape(-1,1)\n",
    "outputs = yPred == yTrain\n",
    "outputs.shape\n",
    "\n",
    "test(outputs)"
   ]
  },
  {
   "cell_type": "markdown",
   "metadata": {},
   "source": [
    "KMeans is highly dependent on the initial "
   ]
  }
 ],
 "metadata": {
  "kernelspec": {
   "display_name": "nb",
   "language": "python",
   "name": "python3"
  },
  "language_info": {
   "codemirror_mode": {
    "name": "ipython",
    "version": 3
   },
   "file_extension": ".py",
   "mimetype": "text/x-python",
   "name": "python",
   "nbconvert_exporter": "python",
   "pygments_lexer": "ipython3",
   "version": "3.11.5"
  }
 },
 "nbformat": 4,
 "nbformat_minor": 2
}
